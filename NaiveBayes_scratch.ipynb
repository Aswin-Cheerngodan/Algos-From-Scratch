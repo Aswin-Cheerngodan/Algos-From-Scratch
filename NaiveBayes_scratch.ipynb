{
 "cells": [
  {
   "cell_type": "code",
   "execution_count": 1,
   "metadata": {},
   "outputs": [],
   "source": [
    "import numpy as np \n",
    "import pandas as pd\n",
    "import matplotlib.pyplot as plt \n",
    "import seaborn as sns\n",
    "import sklearn"
   ]
  },
  {
   "cell_type": "markdown",
   "metadata": {},
   "source": [
    "# Naive Bayes (Scratch)"
   ]
  },
  {
   "cell_type": "markdown",
   "metadata": {},
   "source": []
  },
  {
   "cell_type": "code",
   "execution_count": 16,
   "metadata": {},
   "outputs": [
    {
     "name": "stdout",
     "output_type": "stream",
     "text": [
      "[1 0 2 1 1 0 1 2 1 1 2 0 0 0 0 1 2 1 1 2 0 2 0 2 2 2 2 2 0 0]\n",
      "Accuracy: 1.0\n",
      "Predicted Class: 1.0\n"
     ]
    },
    {
     "data": {
      "text/plain": [
       "1.0"
      ]
     },
     "execution_count": 16,
     "metadata": {},
     "output_type": "execute_result"
    }
   ],
   "source": [
    "class NaiveBayes:\n",
    "    def __init__(self):\n",
    "        self.mean = None \n",
    "        self.variance = None\n",
    "        self.priors = None\n",
    "        self.classes = None\n",
    "        \n",
    "        \n",
    "    def fit(self,X,y):\n",
    "        self.classes = np.unique(y)\n",
    "        n_samples, n_features = X.shape\n",
    "        n_classes = len(self.classes)\n",
    "        \n",
    "        \n",
    "        self.mean = np.zeros((n_classes,n_features),dtype=np.float64)\n",
    "        self.variance = np.zeros((n_classes,n_features),dtype=np.float64)\n",
    "        self.priors = np.zeros(n_classes,dtype=np.float64)\n",
    "        \n",
    "        for idx, c in enumerate(self.classes):\n",
    "            X_c = X[y == c] \n",
    "            self.mean[idx,:] = X_c.mean(axis=0)\n",
    "            self.variance[idx,:] = X_c.var(axis=0)\n",
    "            self.priors[idx] = X_c.shape[0]/float(n_samples)\n",
    "            \n",
    "            \n",
    "            \n",
    "    def predict(self,X):\n",
    "        y_pred = [self._predict(x) for x in X]\n",
    "        return np.array(y_pred)\n",
    "    \n",
    "    def _predict(self,x):\n",
    "        \n",
    "        posteriors = []\n",
    "        \n",
    "        for idx,c in enumerate(self.classes):\n",
    "            prior = np.log(self.priors[idx])\n",
    "            likelihood = np.sum(np.log(self._pdf(idx,x)))\n",
    "            posterior = prior + likelihood\n",
    "            posteriors.append(posterior)\n",
    "            \n",
    "        return self.classes[np.argmax(posteriors)]\n",
    "    \n",
    "    \n",
    "    def _pdf(self,class_idx, x):\n",
    "        mean = self.mean[class_idx]\n",
    "        var = self.variance[class_idx]\n",
    "        numerator = np.exp(-(x-mean)**2/(2*var))\n",
    "        denominator = np.sqrt(2*np.pi*var)\n",
    "        \n",
    "        return numerator/denominator    \n",
    "    \n",
    "    \n",
    "    \n",
    "from sklearn.datasets import load_iris\n",
    "from sklearn.model_selection import train_test_split  \n",
    "from sklearn.metrics import accuracy_score\n",
    "iris = load_iris()\n",
    "X = iris.data  # Features\n",
    "y = iris.target  # Target variable\n",
    "\n",
    "# Split the dataset into training and test sets\n",
    "X_train, X_test, y_train, y_test = train_test_split(X, y, test_size=0.2, random_state=42)\n",
    "\n",
    "# Instantiate and train the Naive Bayes model\n",
    "nb = NaiveBayes()\n",
    "nb.fit(X_train, y_train)\n",
    "\n",
    "# Make predictions on the test set\n",
    "y_pred = nb.predict(X_test)\n",
    "print(y_pred)\n",
    "# Evaluate the model\n",
    "accuracy = accuracy_score(y_test, y_pred)\n",
    "print(\"Accuracy:\", accuracy)\n",
    "    \n",
    "    \n",
    "    \n",
    "    \n",
    "# # Sample dataset\n",
    "data = np.array([\n",
    "    [6.0, 180, 0],  # Class 0\n",
    "    [5.5, 170, 0],  # Class 0\n",
    "    [5.8, 175, 0],  # Class 0\n",
    "    [5.9, 165, 1],  # Class 1\n",
    "    [5.6, 160, 1],  # Class 1\n",
    "    [5.7, 155, 1]   # Class 1\n",
    "])  \n",
    "\n",
    "# Split into features and labels\n",
    "X_train = data[:, :-1]  # Features\n",
    "y_train = data[:, -1]   # Labels\n",
    "\n",
    "# Instantiate and train the Naive Bayes model\n",
    "nb = NaiveBayes()\n",
    "nb.fit(X_train, y_train)\n",
    "\n",
    "# Predicting a new sample\n",
    "X_test = np.array([[5.5, 150]])  # New data point\n",
    "prediction = nb.predict(X_test)\n",
    "\n",
    "print(\"Predicted Class:\", prediction[0])  # Output the predicted class\n",
    "\n",
    "accuracy_score([1],prediction)\n"
   ]
  },
  {
   "cell_type": "code",
   "execution_count": 15,
   "metadata": {},
   "outputs": [
    {
     "data": {
      "text/plain": [
       "array([62.        , 58.5       , 60.26666667, 57.3       , 55.53333333,\n",
       "       53.9       ])"
      ]
     },
     "execution_count": 15,
     "metadata": {},
     "output_type": "execute_result"
    }
   ],
   "source": [
    "data = np.array([\n",
    "    [6.0, 180, 0],  # Class 0\n",
    "    [5.5, 170, 0],  # Class 0\n",
    "    [5.8, 175, 0],  # Class 0\n",
    "    [5.9, 165, 1],  # Class 1\n",
    "    [5.6, 160, 1],  # Class 1\n",
    "    [5.7, 155, 1]   # Class 1\n",
    "])\n",
    "np.mean()"
   ]
  },
  {
   "cell_type": "code",
   "execution_count": null,
   "metadata": {},
   "outputs": [],
   "source": []
  }
 ],
 "metadata": {
  "kernelspec": {
   "display_name": "jupyter_venv",
   "language": "python",
   "name": "python3"
  },
  "language_info": {
   "codemirror_mode": {
    "name": "ipython",
    "version": 3
   },
   "file_extension": ".py",
   "mimetype": "text/x-python",
   "name": "python",
   "nbconvert_exporter": "python",
   "pygments_lexer": "ipython3",
   "version": "3.12.3"
  }
 },
 "nbformat": 4,
 "nbformat_minor": 2
}
