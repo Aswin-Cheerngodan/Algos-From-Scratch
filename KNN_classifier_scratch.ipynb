{
 "cells": [
  {
   "cell_type": "code",
   "execution_count": 3,
   "metadata": {},
   "outputs": [],
   "source": [
    "import pandas as pd \n",
    "import numpy as np \n",
    "import matplotlib.pyplot as plt\n",
    "import seaborn as sns\n",
    "import sklearn"
   ]
  },
  {
   "cell_type": "markdown",
   "metadata": {},
   "source": [
    "# KNN(Scratch)"
   ]
  },
  {
   "cell_type": "code",
   "execution_count": 4,
   "metadata": {},
   "outputs": [
    {
     "name": "stdout",
     "output_type": "stream",
     "text": [
      "[0 0 1 0 0 2 1 0 0 0 2 1 1 0 0 1 2 2 1 2 1 2 1 0 2 1 0 0 0 1 2 0 0 0 1 0 1\n",
      " 2 0 1 2 0 2 2 1 1 2 1 0 1 2 0 0 1 1 0 2 0 0 1 1 2 1 2 2 1 0 0 2 2 0 0 0 1\n",
      " 2 0 2 2 0 1 1 2 1 2 0 2 1 2 1 1 1 0 1 1 0 1 2 2 0 1 2 2 0 2 0 1 2 2 1 2 1\n",
      " 1 2 2 0 1 2 0 1 2]\n",
      "[1 0 2 1 1 0 1 2 1 1 2 0 0 0 0 1 2 1 1 2 0 2 0 2 2 2 2 2 0 0]\n",
      "Accuracy of KNN classifier on Iris dataset: 1.0\n"
     ]
    }
   ],
   "source": [
    "from collections import Counter\n",
    "from sklearn import datasets\n",
    "from sklearn.model_selection import train_test_split\n",
    "\n",
    "class KNN:\n",
    "    def __init__(self,k=3):\n",
    "        self.k = k\n",
    "        \n",
    "    def fit(self,X,y):\n",
    "        self.X_train = X\n",
    "        self.y_train = y\n",
    "     \n",
    "     \n",
    "        \n",
    "    def predict(self,X):\n",
    "        predictions = [self._predict(x) for x in X]\n",
    "        return np.array(predictions)\n",
    "    \n",
    "    \n",
    "    \n",
    "    def _predict(self,x):\n",
    "        \n",
    "        distances = np.linalg.norm(self.X_train - x,axis=1)\n",
    "        \n",
    "        k_indices = np.argsort(distances)[:self.k]\n",
    "        \n",
    "        k_nearest_models = [self.y_train[i] for i in k_indices]\n",
    "        most_common = Counter(k_nearest_models).most_common(1)\n",
    "        \n",
    "        return most_common[0][0]    \n",
    "    \n",
    "\n",
    "    \n",
    "    \n",
    "    \n",
    "    \n",
    "\n",
    "\n",
    "\n",
    "\n",
    "\n",
    "iris = datasets.load_iris()\n",
    "X, y = iris.data, iris.target\n",
    "\n",
    "# Step 2: Split the dataset into training and test sets (80% training, 20% testing)\n",
    "X_train, X_test, y_train, y_test = train_test_split(X, y, test_size=0.2, random_state=42)\n",
    "print(y_train)\n",
    "# Step 3: Create and train the KNN classifier with k=3\n",
    "knn = KNN(k=3)\n",
    "knn.fit(X_train, y_train)\n",
    "\n",
    "# Step 4: Make predictions on the test set\n",
    "y_pred = knn.predict(X_test)\n",
    "print(y_pred)\n",
    "# Step 5: Evaluate the accuracy\n",
    "accuracy = np.sum(y_pred == y_test) / len(y_test)\n",
    "print(\"Accuracy of KNN classifier on Iris dataset:\", accuracy)"
   ]
  },
  {
   "cell_type": "markdown",
   "metadata": {},
   "source": [
    "from "
   ]
  },
  {
   "cell_type": "code",
   "execution_count": 5,
   "metadata": {},
   "outputs": [
    {
     "data": {
      "text/plain": [
       "array([1, 2, 2, 0, 1, 2, 2, 2, 1, 2, 0, 2, 0, 2, 1, 2, 1, 0, 0, 1, 2, 1,\n",
       "       0, 1, 1, 1, 0, 1, 2, 2])"
      ]
     },
     "execution_count": 5,
     "metadata": {},
     "output_type": "execute_result"
    }
   ],
   "source": [
    "class Knn:\n",
    "    def __init__(self,k=3):\n",
    "        self.k = k\n",
    "        \n",
    "    def fit(self,X,y):\n",
    "        self.X_train = X\n",
    "        self.y_train = y\n",
    "        \n",
    "    def predict(self,X):\n",
    "        predictions = [self._predict(x) for x in X]\n",
    "        \n",
    "        return np.array(predictions)\n",
    "        \n",
    "        \n",
    "        \n",
    "    def _predict(self,x):\n",
    "        distances = np.linalg.norm(self.X_train - x,axis=1)\n",
    "        k_indices = np.argsort(distances)[:self.k]\n",
    "        \n",
    "        k_nearest_models = [self.y_train[i] for i in k_indices]\n",
    "        most_common = Counter(k_nearest_models).most_common(1)\n",
    "    \n",
    "        return most_common[0][0]       \n",
    "\n",
    "\n",
    "def train_t_split(X,y,test_size=0.3,random_state=None):\n",
    "    if random_state:\n",
    "        np.random.seed(random_state)\n",
    "    n = len(X)\n",
    "    n_test = int(np.ceil(n*test_size))\n",
    "    indices = np.random.permutation(n)\n",
    "    test_indices = indices[:n_test]\n",
    "    train_indices = indices[n_test:]  \n",
    "    \n",
    "    X_train = X[train_indices]\n",
    "    X_test = X[test_indices]\n",
    "    y_train = y[train_indices]\n",
    "    y_test = y[test_indices]\n",
    "    \n",
    "    return X_train, X_test, y_train, y_test\n",
    "\n",
    "    \n",
    "    \n",
    "    \n",
    "data = datasets.load_iris()\n",
    "X = data.data\n",
    "y= data.target\n",
    "\n",
    "X_train, X_test, y_train, y_test = train_t_split(X,y,test_size=0.2)\n",
    "\n",
    "knn = Knn()\n",
    "knn.fit(X_train,y_train)\n",
    "\n",
    "knn.predict(X_test)\n",
    "\n",
    "\n",
    "        \n",
    "        "
   ]
  },
  {
   "cell_type": "markdown",
   "metadata": {},
   "source": []
  },
  {
   "cell_type": "code",
   "execution_count": 10,
   "metadata": {},
   "outputs": [
    {
     "data": {
      "text/plain": [
       "array([ True,  True,  True,  True,  True,  True, False,  True,  True,\n",
       "        True,  True,  True,  True,  True,  True,  True,  True,  True,\n",
       "        True,  True,  True, False,  True,  True,  True,  True,  True,\n",
       "        True,  True,  True])"
      ]
     },
     "execution_count": 10,
     "metadata": {},
     "output_type": "execute_result"
    }
   ],
   "source": [
    "class KnearestN:\n",
    "    def __init__(self,k=3):\n",
    "        self.k = k\n",
    "        \n",
    "    def fit(self,X,y):\n",
    "        self.X_train = X\n",
    "        self.y_train = y\n",
    "        \n",
    "    def predict(self,X):\n",
    "        predictions = [self.__predict(x) for x in X]\n",
    "        return predictions\n",
    "    \n",
    "    def __predict(self,x):\n",
    "        distances = np.linalg.norm(self.X_train - x,axis=1)\n",
    "        k_indices = np.argsort(distances)[:self.k]\n",
    "        k_nearest_models = [self.y_train[i] for i in k_indices]\n",
    "        most_common = Counter(k_nearest_models).most_common(1)\n",
    "        return most_common\n",
    "        \n",
    "\n",
    "knnn = KnearestN()\n",
    "knn.fit(X_train,y_train)\n",
    "y_pred = knn.predict(X_test)\n",
    "\n",
    "np.mean(y_test == y_pred) \n",
    "y_test == y_pred\n",
    "    "
   ]
  },
  {
   "cell_type": "code",
   "execution_count": null,
   "metadata": {},
   "outputs": [],
   "source": []
  }
 ],
 "metadata": {
  "kernelspec": {
   "display_name": "jupyter_venv",
   "language": "python",
   "name": "python3"
  },
  "language_info": {
   "codemirror_mode": {
    "name": "ipython",
    "version": 3
   },
   "file_extension": ".py",
   "mimetype": "text/x-python",
   "name": "python",
   "nbconvert_exporter": "python",
   "pygments_lexer": "ipython3",
   "version": "3.12.3"
  }
 },
 "nbformat": 4,
 "nbformat_minor": 2
}
